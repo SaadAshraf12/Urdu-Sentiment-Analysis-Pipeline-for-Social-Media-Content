{
 "cells": [
  {
   "cell_type": "code",
   "execution_count": 14,
   "id": "e41230d6",
   "metadata": {},
   "outputs": [
    {
     "name": "stdout",
     "output_type": "stream",
     "text": [
      "Requirement already satisfied: lughaatNLP in c:\\users\\natha\\anaconda3\\lib\\site-packages (1.0.6)\n",
      "Requirement already satisfied: python-Levenshtein in c:\\users\\natha\\anaconda3\\lib\\site-packages (from lughaatNLP) (0.26.0)\n",
      "Requirement already satisfied: tensorflow in c:\\users\\natha\\anaconda3\\lib\\site-packages (from lughaatNLP) (2.17.0)\n",
      "Requirement already satisfied: numpy in c:\\users\\natha\\anaconda3\\lib\\site-packages (from lughaatNLP) (1.24.4)\n",
      "Requirement already satisfied: scikit-learn in c:\\users\\natha\\anaconda3\\lib\\site-packages (from lughaatNLP) (1.2.2)\n",
      "Requirement already satisfied: scipy in c:\\users\\natha\\anaconda3\\lib\\site-packages (from lughaatNLP) (1.10.1)\n",
      "Requirement already satisfied: gtts in c:\\users\\natha\\anaconda3\\lib\\site-packages (from lughaatNLP) (2.5.3)\n",
      "Requirement already satisfied: SpeechRecognition in c:\\users\\natha\\anaconda3\\lib\\site-packages (from lughaatNLP) (3.8.1)\n",
      "Requirement already satisfied: pydub in c:\\users\\natha\\anaconda3\\lib\\site-packages (from lughaatNLP) (0.25.1)\n",
      "Requirement already satisfied: requests<3,>=2.27 in c:\\users\\natha\\anaconda3\\lib\\site-packages (from gtts->lughaatNLP) (2.32.3)\n",
      "Requirement already satisfied: click<8.2,>=7.1 in c:\\users\\natha\\anaconda3\\lib\\site-packages (from gtts->lughaatNLP) (8.1.7)\n",
      "Requirement already satisfied: Levenshtein==0.26.0 in c:\\users\\natha\\anaconda3\\lib\\site-packages (from python-Levenshtein->lughaatNLP) (0.26.0)\n",
      "Requirement already satisfied: rapidfuzz<4.0.0,>=3.9.0 in c:\\users\\natha\\anaconda3\\lib\\site-packages (from Levenshtein==0.26.0->python-Levenshtein->lughaatNLP) (3.10.0)\n",
      "Requirement already satisfied: joblib>=1.1.1 in c:\\users\\natha\\anaconda3\\lib\\site-packages (from scikit-learn->lughaatNLP) (1.2.0)\n",
      "Requirement already satisfied: threadpoolctl>=2.0.0 in c:\\users\\natha\\anaconda3\\lib\\site-packages (from scikit-learn->lughaatNLP) (2.2.0)\n",
      "Requirement already satisfied: tensorflow-intel==2.17.0 in c:\\users\\natha\\anaconda3\\lib\\site-packages (from tensorflow->lughaatNLP) (2.17.0)\n",
      "Requirement already satisfied: absl-py>=1.0.0 in c:\\users\\natha\\anaconda3\\lib\\site-packages (from tensorflow-intel==2.17.0->tensorflow->lughaatNLP) (2.1.0)\n",
      "Requirement already satisfied: astunparse>=1.6.0 in c:\\users\\natha\\anaconda3\\lib\\site-packages (from tensorflow-intel==2.17.0->tensorflow->lughaatNLP) (1.6.3)\n",
      "Requirement already satisfied: flatbuffers>=24.3.25 in c:\\users\\natha\\anaconda3\\lib\\site-packages (from tensorflow-intel==2.17.0->tensorflow->lughaatNLP) (24.3.25)\n",
      "Requirement already satisfied: gast!=0.5.0,!=0.5.1,!=0.5.2,>=0.2.1 in c:\\users\\natha\\anaconda3\\lib\\site-packages (from tensorflow-intel==2.17.0->tensorflow->lughaatNLP) (0.6.0)\n",
      "Requirement already satisfied: google-pasta>=0.1.1 in c:\\users\\natha\\anaconda3\\lib\\site-packages (from tensorflow-intel==2.17.0->tensorflow->lughaatNLP) (0.2.0)\n",
      "Requirement already satisfied: h5py>=3.10.0 in c:\\users\\natha\\anaconda3\\lib\\site-packages (from tensorflow-intel==2.17.0->tensorflow->lughaatNLP) (3.11.0)\n",
      "Requirement already satisfied: libclang>=13.0.0 in c:\\users\\natha\\anaconda3\\lib\\site-packages (from tensorflow-intel==2.17.0->tensorflow->lughaatNLP) (18.1.1)\n",
      "Requirement already satisfied: ml-dtypes<0.5.0,>=0.3.1 in c:\\users\\natha\\anaconda3\\lib\\site-packages (from tensorflow-intel==2.17.0->tensorflow->lughaatNLP) (0.4.0)\n",
      "Requirement already satisfied: opt-einsum>=2.3.2 in c:\\users\\natha\\anaconda3\\lib\\site-packages (from tensorflow-intel==2.17.0->tensorflow->lughaatNLP) (3.3.0)\n",
      "Requirement already satisfied: packaging in c:\\users\\natha\\anaconda3\\lib\\site-packages (from tensorflow-intel==2.17.0->tensorflow->lughaatNLP) (23.2)\n",
      "Requirement already satisfied: protobuf!=4.21.0,!=4.21.1,!=4.21.2,!=4.21.3,!=4.21.4,!=4.21.5,<5.0.0dev,>=3.20.3 in c:\\users\\natha\\anaconda3\\lib\\site-packages (from tensorflow-intel==2.17.0->tensorflow->lughaatNLP) (4.25.3)\n",
      "Requirement already satisfied: setuptools in c:\\users\\natha\\anaconda3\\lib\\site-packages (from tensorflow-intel==2.17.0->tensorflow->lughaatNLP) (70.0.0)\n",
      "Requirement already satisfied: six>=1.12.0 in c:\\users\\natha\\anaconda3\\lib\\site-packages (from tensorflow-intel==2.17.0->tensorflow->lughaatNLP) (1.16.0)\n",
      "Requirement already satisfied: termcolor>=1.1.0 in c:\\users\\natha\\anaconda3\\lib\\site-packages (from tensorflow-intel==2.17.0->tensorflow->lughaatNLP) (2.4.0)\n",
      "Requirement already satisfied: typing-extensions>=3.6.6 in c:\\users\\natha\\anaconda3\\lib\\site-packages (from tensorflow-intel==2.17.0->tensorflow->lughaatNLP) (4.9.0)\n",
      "Requirement already satisfied: wrapt>=1.11.0 in c:\\users\\natha\\anaconda3\\lib\\site-packages (from tensorflow-intel==2.17.0->tensorflow->lughaatNLP) (1.14.1)\n",
      "Requirement already satisfied: grpcio<2.0,>=1.24.3 in c:\\users\\natha\\anaconda3\\lib\\site-packages (from tensorflow-intel==2.17.0->tensorflow->lughaatNLP) (1.64.1)\n",
      "Requirement already satisfied: tensorboard<2.18,>=2.17 in c:\\users\\natha\\anaconda3\\lib\\site-packages (from tensorflow-intel==2.17.0->tensorflow->lughaatNLP) (2.17.0)\n",
      "Requirement already satisfied: keras>=3.2.0 in c:\\users\\natha\\anaconda3\\lib\\site-packages (from tensorflow-intel==2.17.0->tensorflow->lughaatNLP) (3.4.1)\n",
      "Requirement already satisfied: tensorflow-io-gcs-filesystem>=0.23.1 in c:\\users\\natha\\anaconda3\\lib\\site-packages (from tensorflow-intel==2.17.0->tensorflow->lughaatNLP) (0.31.0)\n",
      "Requirement already satisfied: colorama in c:\\users\\natha\\anaconda3\\lib\\site-packages (from click<8.2,>=7.1->gtts->lughaatNLP) (0.4.6)\n",
      "Requirement already satisfied: charset-normalizer<4,>=2 in c:\\users\\natha\\anaconda3\\lib\\site-packages (from requests<3,>=2.27->gtts->lughaatNLP) (2.0.4)\n",
      "Requirement already satisfied: idna<4,>=2.5 in c:\\users\\natha\\anaconda3\\lib\\site-packages (from requests<3,>=2.27->gtts->lughaatNLP) (3.4)\n",
      "Requirement already satisfied: urllib3<3,>=1.21.1 in c:\\users\\natha\\anaconda3\\lib\\site-packages (from requests<3,>=2.27->gtts->lughaatNLP) (2.0.7)\n",
      "Requirement already satisfied: certifi>=2017.4.17 in c:\\users\\natha\\anaconda3\\lib\\site-packages (from requests<3,>=2.27->gtts->lughaatNLP) (2024.2.2)\n",
      "Requirement already satisfied: wheel<1.0,>=0.23.0 in c:\\users\\natha\\anaconda3\\lib\\site-packages (from astunparse>=1.6.0->tensorflow-intel==2.17.0->tensorflow->lughaatNLP) (0.41.2)\n",
      "Requirement already satisfied: rich in c:\\users\\natha\\anaconda3\\lib\\site-packages (from keras>=3.2.0->tensorflow-intel==2.17.0->tensorflow->lughaatNLP) (13.3.5)\n",
      "Requirement already satisfied: namex in c:\\users\\natha\\anaconda3\\lib\\site-packages (from keras>=3.2.0->tensorflow-intel==2.17.0->tensorflow->lughaatNLP) (0.0.8)\n",
      "Requirement already satisfied: optree in c:\\users\\natha\\anaconda3\\lib\\site-packages (from keras>=3.2.0->tensorflow-intel==2.17.0->tensorflow->lughaatNLP) (0.12.1)\n",
      "Requirement already satisfied: markdown>=2.6.8 in c:\\users\\natha\\anaconda3\\lib\\site-packages (from tensorboard<2.18,>=2.17->tensorflow-intel==2.17.0->tensorflow->lughaatNLP) (3.4.1)\n",
      "Requirement already satisfied: tensorboard-data-server<0.8.0,>=0.7.0 in c:\\users\\natha\\anaconda3\\lib\\site-packages (from tensorboard<2.18,>=2.17->tensorflow-intel==2.17.0->tensorflow->lughaatNLP) (0.7.2)\n",
      "Requirement already satisfied: werkzeug>=1.0.1 in c:\\users\\natha\\anaconda3\\lib\\site-packages (from tensorboard<2.18,>=2.17->tensorflow-intel==2.17.0->tensorflow->lughaatNLP) (2.2.3)\n",
      "Requirement already satisfied: MarkupSafe>=2.1.1 in c:\\users\\natha\\anaconda3\\lib\\site-packages (from werkzeug>=1.0.1->tensorboard<2.18,>=2.17->tensorflow-intel==2.17.0->tensorflow->lughaatNLP) (2.1.3)\n",
      "Requirement already satisfied: markdown-it-py<3.0.0,>=2.2.0 in c:\\users\\natha\\anaconda3\\lib\\site-packages (from rich->keras>=3.2.0->tensorflow-intel==2.17.0->tensorflow->lughaatNLP) (2.2.0)\n",
      "Requirement already satisfied: pygments<3.0.0,>=2.13.0 in c:\\users\\natha\\anaconda3\\lib\\site-packages (from rich->keras>=3.2.0->tensorflow-intel==2.17.0->tensorflow->lughaatNLP) (2.15.1)\n",
      "Requirement already satisfied: mdurl~=0.1 in c:\\users\\natha\\anaconda3\\lib\\site-packages (from markdown-it-py<3.0.0,>=2.2.0->rich->keras>=3.2.0->tensorflow-intel==2.17.0->tensorflow->lughaatNLP) (0.1.0)\n"
     ]
    },
    {
     "name": "stderr",
     "output_type": "stream",
     "text": [
      "WARNING: Error parsing dependencies of textract: .* suffix can only be used with `==` or `!=` operators\n",
      "    extract-msg (<=0.29.*)\n",
      "                 ~~~~~~~^\n",
      "\n",
      "[notice] A new release of pip is available: 24.1.2 -> 24.2\n",
      "[notice] To update, run: python.exe -m pip install --upgrade pip\n"
     ]
    }
   ],
   "source": [
    "! pip install lughaatNLP"
   ]
  },
  {
   "cell_type": "markdown",
   "id": "fc8d9bb9",
   "metadata": {},
   "source": [
    "# LIBRARIES AND DEPENDENCIES"
   ]
  },
  {
   "cell_type": "code",
   "execution_count": 15,
   "id": "9462f03d",
   "metadata": {},
   "outputs": [],
   "source": [
    "from LughaatNLP import NER_Urdu, POS_urdu, LughaatNLP\n",
    "import pandas as pd\n",
    "import re\n",
    "from tqdm import tqdm\n",
    "import matplotlib.pyplot as plt\n",
    "from sklearn.feature_extraction.text import TfidfVectorizer\n",
    "import numpy as np\n",
    "from sklearn.model_selection import train_test_split\n",
    "from sklearn.linear_model import LogisticRegression\n",
    "from sklearn.svm import SVC\n",
    "from sklearn.naive_bayes import MultinomialNB\n",
    "from sklearn.metrics import classification_report, accuracy_score\n",
    "from sklearn.preprocessing import LabelEncoder\n",
    "import nltk\n",
    "from nltk import ngrams\n",
    "from collections import Counter\n",
    "from gensim.models import Word2Vec\n",
    "from joblib import Parallel, delayed\n",
    "import multiprocessing\n",
    "\n",
    "urdu_text_processing = LughaatNLP()\n",
    "\n"
   ]
  },
  {
   "cell_type": "markdown",
   "id": "787cf83f",
   "metadata": {},
   "source": [
    "# Spelling Checker"
   ]
  },
  {
   "cell_type": "code",
   "execution_count": 16,
   "id": "ae378faa",
   "metadata": {},
   "outputs": [
    {
     "name": "stderr",
     "output_type": "stream",
     "text": [
      "100%|██████████| 20060/20060 [14:47<00:00, 22.61it/s]\n"
     ]
    },
    {
     "name": "stdout",
     "output_type": "stream",
     "text": [
      "                                           urdu_text  \\\n",
      "0  🤣😂😂 ہو لینے دے میری شادی فسادن ٹھیک ہے کوجی نہ...   \n",
      "1  چل مہمانوں میں کھانا سرو کر چڑیل چاچی نوں دسدی...   \n",
      "2  کامران خان آپکی دن بھریہ زمہ داری لگائی گئی اپ...   \n",
      "3                                       نہیں پائین 😎   \n",
      "4   `` مراد علی شاہ کے بھیس میں ڈی جی آئی ایس آئی...   \n",
      "\n",
      "                                      corrected_text  \n",
      "0  🤣😂😂 ہو لینے دے میری شادی فساد ٹھیک ہے کوجی نہی...  \n",
      "1  چل مہمانوں میں کھانا سروس کر چڑیل چاچا دنوں دس...  \n",
      "2  کامران خان آپکی دن بحریہ زمہ داری لگائی گئی اپ...  \n",
      "3                                      نہیں پائینل 😎  \n",
      "4  `` مراد علی شاہ کے بھیس میں ڈی جی آئی ایس آئی ...  \n"
     ]
    }
   ],
   "source": [
    "tqdm.pandas()\n",
    "\n",
    "# Load the dataset\n",
    "df = pd.read_csv('urdu_sarcastic_dataset.csv')\n",
    "\n",
    "# Ensure the 'urdu_text' column is string type and handle missing values\n",
    "df['urdu_text'] = df['urdu_text'].fillna('').astype(str)\n",
    "\n",
    "# Function to apply spell checker to individual sentences\n",
    "def process_sentence(sentence):\n",
    "    return urdu_text_processing.corrected_sentence_spelling(sentence, 60)\n",
    "\n",
    "# Define the number of CPUs available for multiprocessing\n",
    "num_cores = multiprocessing.cpu_count()\n",
    "\n",
    "# Apply the spell checker function using multiprocessing and display the progress bar\n",
    "df['corrected_text'] = Parallel(n_jobs=num_cores)(delayed(process_sentence)(sentence) for sentence in tqdm(df['urdu_text']))\n",
    "\n",
    "# View the output\n",
    "print(df[['urdu_text', 'corrected_text']].head())"
   ]
  },
  {
   "cell_type": "markdown",
   "id": "d6acf47a",
   "metadata": {},
   "source": [
    "# Stop Words Removing"
   ]
  },
  {
   "cell_type": "code",
   "execution_count": 17,
   "id": "443e502a",
   "metadata": {},
   "outputs": [
    {
     "name": "stdout",
     "output_type": "stream",
     "text": [
      "                                           urdu_text  \\\n",
      "0  🤣😂😂 ہو لینے دے میری شادی فسادن ٹھیک ہے کوجی نہ...   \n",
      "1  چل مہمانوں میں کھانا سرو کر چڑیل چاچی نوں دسدی...   \n",
      "2  کامران خان آپکی دن بھریہ زمہ داری لگائی گئی اپ...   \n",
      "3                                       نہیں پائین 😎   \n",
      "4   `` مراد علی شاہ کے بھیس میں ڈی جی آئی ایس آئی...   \n",
      "\n",
      "                                       filtered_text  \n",
      "0                  🤣😂😂 لینے شادی فساد ٹھیک کوجی 😐😐😐🤣  \n",
      "1  چل مہمانوں کھانا سروس چڑیل چاچا دنوں دستی آؤں ...  \n",
      "2  کامران خان دن بحریہ زمہ داری لگائی گئی اپوزیشن...  \n",
      "3                                           پائینل 😎  \n",
      "4            `` مراد علی شاہ بھیس ڈی آئی آئی '' حامی  \n"
     ]
    }
   ],
   "source": [
    "# Apply stopword removal on the spell-checked text\n",
    "df['filtered_text'] = df['corrected_text'].apply(urdu_text_processing.remove_stopwords)\n",
    "\n",
    "# View the output\n",
    "print(df[['urdu_text', 'filtered_text']].head())\n"
   ]
  },
  {
   "cell_type": "markdown",
   "id": "9b54822d",
   "metadata": {},
   "source": [
    "# Punctuation, Emojis, and Hashtags"
   ]
  },
  {
   "cell_type": "code",
   "execution_count": 18,
   "id": "81d3c79c",
   "metadata": {},
   "outputs": [
    {
     "name": "stdout",
     "output_type": "stream",
     "text": [
      "                                           urdu_text  \\\n",
      "0  🤣😂😂 ہو لینے دے میری شادی فسادن ٹھیک ہے کوجی نہ...   \n",
      "1  چل مہمانوں میں کھانا سرو کر چڑیل چاچی نوں دسدی...   \n",
      "2  کامران خان آپکی دن بھریہ زمہ داری لگائی گئی اپ...   \n",
      "3                                       نہیں پائین 😎   \n",
      "4   `` مراد علی شاہ کے بھیس میں ڈی جی آئی ایس آئی...   \n",
      "\n",
      "                                       filtered_text  \\\n",
      "0                  🤣😂😂 لینے شادی فساد ٹھیک کوجی 😐😐😐🤣   \n",
      "1  چل مہمانوں کھانا سروس چڑیل چاچا دنوں دستی آؤں ...   \n",
      "2  کامران خان دن بحریہ زمہ داری لگائی گئی اپوزیشن...   \n",
      "3                                           پائینل 😎   \n",
      "4            `` مراد علی شاہ بھیس ڈی آئی آئی '' حامی   \n",
      "\n",
      "                                        cleaned_text  \n",
      "0                          لینے شادی فساد ٹھیک کوجی   \n",
      "1  چل مہمانوں کھانا سروس چڑیل چاچا دنوں دستی آؤں میں  \n",
      "2  کامران خان دن بحریہ زمہ داری لگائی گئی اپوزیشن...  \n",
      "3                                            پائینل   \n",
      "4                 مراد علی شاہ بھیس ڈی آئی آئی  حامی  \n"
     ]
    }
   ],
   "source": [
    "def clean_text(text):\n",
    "    # Remove URLs\n",
    "    text = re.sub(r'http\\S+|www\\S+|https\\S+', '', text, flags=re.MULTILINE)\n",
    "    # Remove emojis\n",
    "    text = re.sub(r'[^\\w\\s,۔!?]', '', text)  # Keeps words, punctuation, and Urdu characters\n",
    "    # Remove hashtags\n",
    "    text = re.sub(r'#\\S+', '', text)  # Remove hashtags\n",
    "    # Remove unnecessary punctuation\n",
    "    text = re.sub(r'[^\\w\\s]', '', text)  # Remove all punctuation except for whitespace\n",
    "    return text\n",
    "\n",
    "# Clean the filtered text entries\n",
    "df['cleaned_text'] = df['filtered_text'].apply(clean_text)\n",
    "\n",
    "# Print the first 5 rows to check the results\n",
    "print(df[['urdu_text', 'filtered_text', 'cleaned_text']].head())"
   ]
  },
  {
   "cell_type": "markdown",
   "id": "5846ec8b",
   "metadata": {},
   "source": [
    "# Short Conversations"
   ]
  },
  {
   "cell_type": "code",
   "execution_count": 19,
   "id": "21999b42",
   "metadata": {},
   "outputs": [
    {
     "name": "stdout",
     "output_type": "stream",
     "text": [
      "                                           urdu_text  \\\n",
      "0  🤣😂😂 ہو لینے دے میری شادی فسادن ٹھیک ہے کوجی نہ...   \n",
      "1  چل مہمانوں میں کھانا سرو کر چڑیل چاچی نوں دسدی...   \n",
      "2  کامران خان آپکی دن بھریہ زمہ داری لگائی گئی اپ...   \n",
      "4   `` مراد علی شاہ کے بھیس میں ڈی جی آئی ایس آئی...   \n",
      "5        قابل اعتبار ہی اکثر قاتل اعتبار ہوتے ہیں 💔🔥   \n",
      "\n",
      "                                        cleaned_text  \n",
      "0                          لینے شادی فساد ٹھیک کوجی   \n",
      "1  چل مہمانوں کھانا سروس چڑیل چاچا دنوں دستی آؤں میں  \n",
      "2  کامران خان دن بحریہ زمہ داری لگائی گئی اپوزیشن...  \n",
      "4                 مراد علی شاہ بھیس ڈی آئی آئی  حامی  \n",
      "5                           قابل اعتبار قاتل اعتبار   \n"
     ]
    }
   ],
   "source": [
    "def filter_short_posts(text):\n",
    "    # Split the text into words\n",
    "    word_count = len(text.split())\n",
    "    # Return True if the post has 3 or more words\n",
    "    return word_count >= 3\n",
    "\n",
    "# Apply the filtering function to the cleaned text\n",
    "df['is_long_enough'] = df['cleaned_text'].apply(filter_short_posts)\n",
    "\n",
    "# Optionally, filter the DataFrame to include only longer posts\n",
    "df_filtered = df[df['is_long_enough']]\n",
    "\n",
    "# Print the first 5 rows of the filtered DataFrame\n",
    "print(df_filtered[['urdu_text', 'cleaned_text']].head())"
   ]
  },
  {
   "cell_type": "markdown",
   "id": "482e94d6",
   "metadata": {},
   "source": [
    "# Normalization"
   ]
  },
  {
   "cell_type": "code",
   "execution_count": 20,
   "id": "b2dff120",
   "metadata": {},
   "outputs": [
    {
     "name": "stdout",
     "output_type": "stream",
     "text": [
      "                                           urdu_text  \\\n",
      "0  🤣😂😂 ہو لینے دے میری شادی فسادن ٹھیک ہے کوجی نہ...   \n",
      "1  چل مہمانوں میں کھانا سرو کر چڑیل چاچی نوں دسدی...   \n",
      "2  کامران خان آپکی دن بھریہ زمہ داری لگائی گئی اپ...   \n",
      "3                                       نہیں پائین 😎   \n",
      "4   `` مراد علی شاہ کے بھیس میں ڈی جی آئی ایس آئی...   \n",
      "\n",
      "                                       filtered_text  \\\n",
      "0                  🤣😂😂 لینے شادی فساد ٹھیک کوجی 😐😐😐🤣   \n",
      "1  چل مہمانوں کھانا سروس چڑیل چاچا دنوں دستی آؤں ...   \n",
      "2  کامران خان دن بحریہ زمہ داری لگائی گئی اپوزیشن...   \n",
      "3                                           پائینل 😎   \n",
      "4            `` مراد علی شاہ بھیس ڈی آئی آئی '' حامی   \n",
      "\n",
      "                                        cleaned_text  \\\n",
      "0                          لینے شادی فساد ٹھیک کوجی    \n",
      "1  چل مہمانوں کھانا سروس چڑیل چاچا دنوں دستی آؤں میں   \n",
      "2  کامران خان دن بحریہ زمہ داری لگائی گئی اپوزیشن...   \n",
      "3                                            پائینل    \n",
      "4                 مراد علی شاہ بھیس ڈی آئی آئی  حامی   \n",
      "\n",
      "                                     normalized_text  \n",
      "0                           لینے شادی فساد ٹھیک کوجی  \n",
      "1  چل مہمانوں کھانا سروس چڑیل چاچا دنوں دستی اؤں میں  \n",
      "2  کامران خان دن بحریہ زمہ داری لگائی گئی اپوزیشن...  \n",
      "3                                             پائینل  \n",
      "4                  مراد علی شاہ بھیس ڈی ائی ائی حامی  \n"
     ]
    }
   ],
   "source": [
    "df['normalized_text'] = df['cleaned_text'].apply(urdu_text_processing.normalize)\n",
    "\n",
    "# Print the first 5 rows to check the results\n",
    "print(df[['urdu_text', 'filtered_text', 'cleaned_text', 'normalized_text']].head())"
   ]
  },
  {
   "cell_type": "markdown",
   "id": "b4ee4129",
   "metadata": {},
   "source": [
    "# Stemming"
   ]
  },
  {
   "cell_type": "code",
   "execution_count": 21,
   "id": "728b5cbe",
   "metadata": {},
   "outputs": [
    {
     "name": "stdout",
     "output_type": "stream",
     "text": [
      "                                           urdu_text  \\\n",
      "0  🤣😂😂 ہو لینے دے میری شادی فسادن ٹھیک ہے کوجی نہ...   \n",
      "1  چل مہمانوں میں کھانا سرو کر چڑیل چاچی نوں دسدی...   \n",
      "2  کامران خان آپکی دن بھریہ زمہ داری لگائی گئی اپ...   \n",
      "3                                       نہیں پائین 😎   \n",
      "4   `` مراد علی شاہ کے بھیس میں ڈی جی آئی ایس آئی...   \n",
      "\n",
      "                                       filtered_text  \\\n",
      "0                  🤣😂😂 لینے شادی فساد ٹھیک کوجی 😐😐😐🤣   \n",
      "1  چل مہمانوں کھانا سروس چڑیل چاچا دنوں دستی آؤں ...   \n",
      "2  کامران خان دن بحریہ زمہ داری لگائی گئی اپوزیشن...   \n",
      "3                                           پائینل 😎   \n",
      "4            `` مراد علی شاہ بھیس ڈی آئی آئی '' حامی   \n",
      "\n",
      "                                     normalized_text  \\\n",
      "0                           لینے شادی فساد ٹھیک کوجی   \n",
      "1  چل مہمانوں کھانا سروس چڑیل چاچا دنوں دستی اؤں میں   \n",
      "2  کامران خان دن بحریہ زمہ داری لگائی گئی اپوزیشن...   \n",
      "3                                             پائینل   \n",
      "4                  مراد علی شاہ بھیس ڈی ائی ائی حامی   \n",
      "\n",
      "                                        stemmed_text  \n",
      "0                           لینہ شادی فساد ٹھیک کوجی  \n",
      "1     چل مہمانا کھانا سروس چڑیل چاچا دنا دستی اؤں ما  \n",
      "2  کامران خان دن بحریہ زمہ داری لگائی گئی اپوزیشن...  \n",
      "3                                             پائینل  \n",
      "4                  مراد علی شاہ بھیس ڈی ائی ائی حامی  \n"
     ]
    }
   ],
   "source": [
    "df['stemmed_text'] = df['normalized_text'].apply(urdu_text_processing.urdu_stemmer)\n",
    "\n",
    "# Print the first 5 rows to check the results\n",
    "print(df[['urdu_text', 'filtered_text', 'normalized_text', 'stemmed_text']].head())"
   ]
  },
  {
   "cell_type": "markdown",
   "id": "407050d7",
   "metadata": {},
   "source": [
    "# Lemmatization"
   ]
  },
  {
   "cell_type": "code",
   "execution_count": 22,
   "id": "4df5470a",
   "metadata": {},
   "outputs": [
    {
     "name": "stdout",
     "output_type": "stream",
     "text": [
      "                                           urdu_text  \\\n",
      "0  🤣😂😂 ہو لینے دے میری شادی فسادن ٹھیک ہے کوجی نہ...   \n",
      "1  چل مہمانوں میں کھانا سرو کر چڑیل چاچی نوں دسدی...   \n",
      "2  کامران خان آپکی دن بھریہ زمہ داری لگائی گئی اپ...   \n",
      "3                                       نہیں پائین 😎   \n",
      "4   `` مراد علی شاہ کے بھیس میں ڈی جی آئی ایس آئی...   \n",
      "\n",
      "                                       filtered_text  \\\n",
      "0                  🤣😂😂 لینے شادی فساد ٹھیک کوجی 😐😐😐🤣   \n",
      "1  چل مہمانوں کھانا سروس چڑیل چاچا دنوں دستی آؤں ...   \n",
      "2  کامران خان دن بحریہ زمہ داری لگائی گئی اپوزیشن...   \n",
      "3                                           پائینل 😎   \n",
      "4            `` مراد علی شاہ بھیس ڈی آئی آئی '' حامی   \n",
      "\n",
      "                                     normalized_text  \\\n",
      "0                           لینے شادی فساد ٹھیک کوجی   \n",
      "1  چل مہمانوں کھانا سروس چڑیل چاچا دنوں دستی اؤں میں   \n",
      "2  کامران خان دن بحریہ زمہ داری لگائی گئی اپوزیشن...   \n",
      "3                                             پائینل   \n",
      "4                  مراد علی شاہ بھیس ڈی ائی ائی حامی   \n",
      "\n",
      "                                      lemmatize_text  \n",
      "0                           لینا شادی فساد ٹھیک کوجی  \n",
      "1      چلنا مہمان کھا سروس چڑیل چاچا دن دستی اؤں میں  \n",
      "2  کامران خان دن بحریہ زمہ داری لگنا جانا اپوزیشن...  \n",
      "3                                             پائینل  \n",
      "4                  مراد علی شاہ بھیس ڈی ائی ائی حامی  \n"
     ]
    }
   ],
   "source": [
    "df['lemmatize_text'] = df['normalized_text'].apply(urdu_text_processing.lemmatize_sentence)\n",
    "\n",
    "# Print the first 5 rows to check the results\n",
    "print(df[['urdu_text', 'filtered_text', 'normalized_text', 'lemmatize_text']].head())"
   ]
  },
  {
   "cell_type": "markdown",
   "id": "cfcf96a3",
   "metadata": {},
   "source": [
    "# Tokenization"
   ]
  },
  {
   "cell_type": "code",
   "execution_count": 23,
   "id": "fd7442e5",
   "metadata": {},
   "outputs": [],
   "source": [
    "df['tokenized_text'] = df['lemmatize_text'].apply(urdu_text_processing.urdu_tokenize)"
   ]
  },
  {
   "cell_type": "code",
   "execution_count": 24,
   "id": "6bf3e015",
   "metadata": {},
   "outputs": [
    {
     "name": "stdout",
     "output_type": "stream",
     "text": [
      "                                      tokenized_text\n",
      "0                     [لینا, شادی, فساد, ٹھیک, کوجی]\n",
      "1  [چلنا, مہمان, کھا, سروس, چڑیل, چاچا, دن, دستی,...\n",
      "2  [کامران, خان, دن, بحریہ, زمہ, داری, لگنا, جانا...\n",
      "3                                           [پائینل]\n",
      "4         [مراد, علی, شاہ, بھیس, ڈی, ائی, ائی, حامی]\n"
     ]
    }
   ],
   "source": [
    "print(df[['tokenized_text']].head())"
   ]
  },
  {
   "cell_type": "markdown",
   "id": "f8756ea2",
   "metadata": {},
   "source": [
    "# Saving in csv file"
   ]
  },
  {
   "cell_type": "code",
   "execution_count": 25,
   "id": "1e6c9746",
   "metadata": {},
   "outputs": [
    {
     "name": "stdout",
     "output_type": "stream",
     "text": [
      "                                      lemmatize_text  is_sarcastic\n",
      "0                           لینا شادی فساد ٹھیک کوجی           1.0\n",
      "1      چلنا مہمان کھا سروس چڑیل چاچا دن دستی اؤں میں           1.0\n",
      "2  کامران خان دن بحریہ زمہ داری لگنا جانا اپوزیشن...           0.0\n",
      "3                                             پائینل           0.0\n",
      "4                  مراد علی شاہ بھیس ڈی ائی ائی حامی           1.0\n"
     ]
    }
   ],
   "source": [
    "lemmatized_df = df[['lemmatize_text', 'is_sarcastic']]\n",
    "\n",
    "# Save the DataFrame to a new CSV file\n",
    "lemmatized_df.to_csv('lemmatized_urdu_sarcastic_dataset.csv', index=False, encoding='utf-8-sig')\n",
    "\n",
    "# Print the first few rows to verify\n",
    "print(lemmatized_df.head())"
   ]
  },
  {
   "cell_type": "markdown",
   "id": "9b0c3516",
   "metadata": {},
   "source": [
    "# Distribution"
   ]
  },
  {
   "cell_type": "code",
   "execution_count": 26,
   "id": "9a9fc66c",
   "metadata": {},
   "outputs": [
    {
     "data": {
      "image/png": "[encoded data removed]",
      "text/plain": [
       "<Figure size 600x400 with 1 Axes>"
      ]
     },
     "metadata": {},
     "output_type": "display_data"
    }
   ],
   "source": [
    "\n",
    "\n",
    "# Load the lemmatized dataset\n",
    "df = pd.read_csv('lemmatized_urdu_sarcastic_dataset.csv')\n",
    "\n",
    "# Count the number of sarcastic and non-sarcastic entries\n",
    "sarcastic_counts = df['is_sarcastic'].value_counts()\n",
    "\n",
    "# Plot the counts\n",
    "plt.figure(figsize=(6, 4))\n",
    "sarcastic_counts.plot(kind='bar', color=['skyblue', 'lightgreen'])\n",
    "\n",
    "# Add labels and title\n",
    "plt.title('Number of Sarcastic vs Non-Sarcastic Posts')\n",
    "plt.xlabel('Sarcasm Label (0 = Not Sarcastic, 1 = Sarcastic)')\n",
    "plt.ylabel('Number of Posts')\n",
    "\n",
    "# Show plot\n",
    "plt.xticks(rotation=0)  # Keep the x-axis labels horizontal\n",
    "plt.tight_layout()\n",
    "plt.show()\n"
   ]
  },
  {
   "cell_type": "markdown",
   "id": "8fd20172",
   "metadata": {},
   "source": [
    "# Tf-IDF"
   ]
  },
  {
   "cell_type": "code",
   "execution_count": 27,
   "id": "d8364d67",
   "metadata": {},
   "outputs": [
    {
     "name": "stdout",
     "output_type": "stream",
     "text": [
      "        word  tfidf_score\n",
      "72      اللہ   354.014600\n",
      "137      بات   352.194118\n",
      "904     کوئی   350.253881\n",
      "926     کہنا   330.514771\n",
      "305      خان   279.868725\n",
      "965       ھے   278.265683\n",
      "980     ہونا   268.198688\n",
      "251     جانا   262.438253\n",
      "765  پاکستان   244.883849\n",
      "597     لگنا   242.175717\n"
     ]
    }
   ],
   "source": [
    "\n",
    "\n",
    "# Load the lemmatized dataset\n",
    "df = pd.read_csv('lemmatized_urdu_sarcastic_dataset.csv')\n",
    "\n",
    "# Combine all the text data into a single column if needed (ensure 'lemmatize_text' column is present)\n",
    "corpus = df['lemmatize_text'].fillna('')\n",
    "\n",
    "# Initialize the Tf-IDF vectorizer for Urdu text\n",
    "tfidf_vectorizer = TfidfVectorizer(max_features=1000)  # You can adjust max_features for more words\n",
    "\n",
    "# Fit the model and transform the text into a Tf-IDF matrix\n",
    "tfidf_matrix = tfidf_vectorizer.fit_transform(corpus)\n",
    "\n",
    "# Get the feature names (words)\n",
    "feature_names = tfidf_vectorizer.get_feature_names_out()\n",
    "\n",
    "# Get the sum of TF-IDF scores for each word across all documents\n",
    "tfidf_scores = tfidf_matrix.sum(axis=0).A1\n",
    "\n",
    "# Create a DataFrame with words and their corresponding TF-IDF scores\n",
    "tfidf_df = pd.DataFrame({'word': feature_names, 'tfidf_score': tfidf_scores})\n",
    "\n",
    "# Sort the DataFrame by the highest TF-IDF scores\n",
    "tfidf_df = tfidf_df.sort_values(by='tfidf_score', ascending=False)\n",
    "\n",
    "# Display the top 10 words with the highest TF-IDF scores\n",
    "top_10_words = tfidf_df.head(10)\n",
    "print(top_10_words)\n",
    "\n",
    "# Optional: Save the results to a CSV file\n",
    "top_10_words.to_csv('top_10_tfidf_words.csv', index=False)\n"
   ]
  },
  {
   "cell_type": "markdown",
   "id": "fc2742b2",
   "metadata": {},
   "source": [
    "# Word2vec"
   ]
  },
  {
   "cell_type": "code",
   "execution_count": 28,
   "id": "0c249528",
   "metadata": {},
   "outputs": [
    {
     "name": "stderr",
     "output_type": "stream",
     "text": [
      "100%|██████████| 20060/20060 [00:00<00:00, 104194.70it/s]"
     ]
    },
    {
     "name": "stdout",
     "output_type": "stream",
     "text": [
      "                                      tokenized_text\n",
      "0                     [لینا, شادی, فساد, ٹھیک, کوجی]\n",
      "1  [چلنا, مہمان, کھا, سروس, چڑیل, چاچا, دن, دستی,...\n",
      "2  [کامران, خان, دن, بحریہ, زمہ, داری, لگنا, جانا...\n",
      "3                                           [پائینل]\n",
      "4         [مراد, علی, شاہ, بھیس, ڈی, ائی, ائی, حامی]\n"
     ]
    },
    {
     "name": "stderr",
     "output_type": "stream",
     "text": [
      "\n"
     ]
    }
   ],
   "source": [
    "\n",
    "\n",
    "# Load dataset\n",
    "df = pd.read_csv('lemmatized_urdu_sarcastic_dataset.csv')\n",
    "\n",
    "# Ensure all entries in 'lemmatize_text' column are strings and handle NaN values\n",
    "df['lemmatize_text'] = df['lemmatize_text'].fillna('').astype(str)\n",
    "\n",
    "# Enable tqdm for pandas\n",
    "tqdm.pandas()\n",
    "\n",
    "# Apply tokenization with progress bar\n",
    "df['tokenized_text'] = df['lemmatize_text'].progress_apply(urdu_text_processing.urdu_tokenize)\n",
    "\n",
    "# Print the first 5 rows to check the results\n",
    "print(df[['tokenized_text']].head())\n"
   ]
  },
  {
   "cell_type": "code",
   "execution_count": 29,
   "id": "16953997",
   "metadata": {},
   "outputs": [
    {
     "name": "stdout",
     "output_type": "stream",
     "text": [
      "Top 5 words most similar to 'اچھا':\n",
      "حال: 0.8309\n",
      "کافی: 0.8299\n",
      "قسمت: 0.8133\n",
      "پسند: 0.8117\n",
      "سپلائی: 0.8046\n"
     ]
    }
   ],
   "source": [
    "\n",
    "\n",
    "# Assuming df is the lemmatized dataset with tokenized text in 'tokenized_text' column\n",
    "# Each row in 'tokenized_text' is a list of tokenized words (sentences)\n",
    "\n",
    "# Train Word2Vec model on tokenized text\n",
    "model = Word2Vec(sentences=df['tokenized_text'], vector_size=100, window=5, min_count=2, sg=1, workers=4)\n",
    "\n",
    "# Query the model for the top 5 words most similar to \"اچھا\" (good)\n",
    "similar_words = model.wv.most_similar(\"اچھا\", topn=5)\n",
    "\n",
    "# Display the similar words and their similarity scores\n",
    "print(\"Top 5 words most similar to 'اچھا':\")\n",
    "for word, similarity in similar_words:\n",
    "    print(f\"{word}: {similarity:.4f}\")\n"
   ]
  },
  {
   "cell_type": "code",
   "execution_count": 30,
   "id": "17b3702d",
   "metadata": {},
   "outputs": [
    {
     "name": "stdout",
     "output_type": "stream",
     "text": [
      "Word embeddings saved to 'word_embeddings.csv'.\n"
     ]
    }
   ],
   "source": [
    "\n",
    "# Assuming df is the lemmatized dataset with tokenized text in 'tokenized_text' column\n",
    "# Each row in 'tokenized_text' is a list of tokenized words (sentences)\n",
    "\n",
    "# Train Word2Vec model on tokenized text\n",
    "model = Word2Vec(sentences=df['tokenized_text'], vector_size=100, window=5, min_count=2, sg=1, workers=4)\n",
    "\n",
    "# Get word embeddings\n",
    "word_vectors = model.wv\n",
    "words = word_vectors.index_to_key  # List of words in the model's vocabulary\n",
    "embeddings = [word_vectors[word] for word in words]  # Corresponding embeddings\n",
    "\n",
    "# Create a DataFrame to store words and their embeddings\n",
    "embedding_df = pd.DataFrame(embeddings, index=words)\n",
    "\n",
    "# Save embeddings to CSV\n",
    "embedding_df.to_csv('word_embeddings.csv', index_label='word')\n",
    "\n",
    "# Display success message\n",
    "print(\"Word embeddings saved to 'word_embeddings.csv'.\")\n"
   ]
  },
  {
   "cell_type": "markdown",
   "id": "d9d797aa",
   "metadata": {},
   "source": [
    "# Unigram, Bigram, and Trigram Analysis"
   ]
  },
  {
   "cell_type": "code",
   "execution_count": 31,
   "id": "22cb1e54",
   "metadata": {},
   "outputs": [
    {
     "name": "stderr",
     "output_type": "stream",
     "text": [
      "[nltk_data] Downloading package punkt to\n",
      "[nltk_data]     C:\\Users\\Natha\\AppData\\Roaming\\nltk_data...\n",
      "[nltk_data]   Package punkt is already up-to-date!\n"
     ]
    },
    {
     "name": "stdout",
     "output_type": "stream",
     "text": [
      "Top 10 Unigrams:\n",
      "_: 3459\n",
      "کہنا: 1396\n",
      "کوئی: 1373\n",
      "اللہ: 1263\n",
      "بات: 1239\n",
      "خان: 1176\n",
      "ھے: 1147\n",
      "پاکستان: 1057\n",
      "جانا: 965\n",
      "ہونا: 911\n",
      "\n",
      "Top 10 Bigrams:\n",
      "_ _: 1131\n",
      "عمران خان: 510\n",
      "نواز شریف: 466\n",
      "سندھ پولیس: 305\n",
      "ارمی چیف: 227\n",
      "جزا اللہ: 208\n",
      "کیپٹن صفدر: 184\n",
      "مریم نواز: 159\n",
      "ن لیگ: 155\n",
      "اللہ علیہ: 143\n",
      "\n",
      "Top 10 Trigrams:\n",
      "_ _ _: 506\n",
      "پینا ٹی ائی: 117\n",
      "صلی اللہ علیہ: 100\n",
      "پینا ڈی ایم: 88\n",
      "پٹواریوں _ _: 80\n",
      "جزا اللہ خیر: 80\n",
      "_ _ سفر: 77\n",
      "_ _ مادرملت: 77\n",
      "فالو فالو بیک: 73\n",
      "بزدارکی _ پرواز: 67\n"
     ]
    }
   ],
   "source": [
    "\n",
    "# Load dataset\n",
    "df = pd.read_csv('lemmatized_urdu_sarcastic_dataset.csv')\n",
    "\n",
    "# Ensure 'lemmatize_text' column is in string format and handle NaN values\n",
    "df['lemmatize_text'] = df['lemmatize_text'].fillna('').astype(str)\n",
    "\n",
    "# Tokenize the lemmatized text into words\n",
    "nltk.download('punkt')  # Download the punkt tokenizer if not already done\n",
    "df['tokenized_text'] = df['lemmatize_text'].apply(nltk.word_tokenize)\n",
    "\n",
    "# Create a list of all words from the tokenized text\n",
    "all_words = [word for tokens in df['tokenized_text'] for word in tokens]\n",
    "\n",
    "# Create unigrams, bigrams, and trigrams\n",
    "unigrams = Counter(all_words)\n",
    "bigrams = Counter(ngrams(all_words, 2))\n",
    "trigrams = Counter(ngrams(all_words, 3))\n",
    "\n",
    "# Get the most common unigrams, bigrams, and trigrams\n",
    "top_10_unigrams = unigrams.most_common(10)\n",
    "top_10_bigrams = bigrams.most_common(10)\n",
    "top_10_trigrams = trigrams.most_common(10)\n",
    "\n",
    "# Print the results\n",
    "print(\"Top 10 Unigrams:\")\n",
    "for word, freq in top_10_unigrams:\n",
    "    print(f\"{word}: {freq}\")\n",
    "\n",
    "print(\"\\nTop 10 Bigrams:\")\n",
    "for bigram, freq in top_10_bigrams:\n",
    "    print(f\"{' '.join(bigram)}: {freq}\")\n",
    "\n",
    "print(\"\\nTop 10 Trigrams:\")\n",
    "for trigram, freq in top_10_trigrams:\n",
    "    print(f\"{' '.join(trigram)}: {freq}\")\n"
   ]
  },
  {
   "cell_type": "markdown",
   "id": "82b71d8a",
   "metadata": {},
   "source": [
    "# Model Training and Evaluation"
   ]
  },
  {
   "cell_type": "code",
   "execution_count": 32,
   "id": "5bf5640f",
   "metadata": {},
   "outputs": [
    {
     "name": "stdout",
     "output_type": "stream",
     "text": [
      "Labels DataFrame Columns: Index(['lemmatize_text', 'is_sarcastic'], dtype='object')\n",
      "Accuracy: 0.7345463609172482\n",
      "              precision    recall  f1-score   support\n",
      "\n",
      "         0.0       0.75      0.72      0.74      2060\n",
      "         1.0       0.72      0.75      0.73      1942\n",
      "         nan       0.00      0.00      0.00        10\n",
      "\n",
      "    accuracy                           0.73      4012\n",
      "   macro avg       0.49      0.49      0.49      4012\n",
      "weighted avg       0.73      0.73      0.73      4012\n",
      "\n"
     ]
    },
    {
     "name": "stderr",
     "output_type": "stream",
     "text": [
      "C:\\Users\\Natha\\anaconda3\\Lib\\site-packages\\sklearn\\metrics\\_classification.py:1344: UndefinedMetricWarning: Precision and F-score are ill-defined and being set to 0.0 in labels with no predicted samples. Use `zero_division` parameter to control this behavior.\n",
      "  _warn_prf(average, modifier, msg_start, len(result))\n",
      "C:\\Users\\Natha\\anaconda3\\Lib\\site-packages\\sklearn\\metrics\\_classification.py:1344: UndefinedMetricWarning: Precision and F-score are ill-defined and being set to 0.0 in labels with no predicted samples. Use `zero_division` parameter to control this behavior.\n",
      "  _warn_prf(average, modifier, msg_start, len(result))\n",
      "C:\\Users\\Natha\\anaconda3\\Lib\\site-packages\\sklearn\\metrics\\_classification.py:1344: UndefinedMetricWarning: Precision and F-score are ill-defined and being set to 0.0 in labels with no predicted samples. Use `zero_division` parameter to control this behavior.\n",
      "  _warn_prf(average, modifier, msg_start, len(result))\n"
     ]
    }
   ],
   "source": [
    "\n",
    "# Load your embeddings and labels\n",
    "embeddings_df = pd.read_csv('word_embeddings.csv')\n",
    "labels_df = pd.read_csv('lemmatized_urdu_sarcastic_dataset.csv')\n",
    "\n",
    "# Check the column names in labels_df\n",
    "print(\"Labels DataFrame Columns:\", labels_df.columns)\n",
    "\n",
    "# Create a dictionary of word embeddings\n",
    "embeddings_dict = dict(zip(\n",
    "    embeddings_df['word'],\n",
    "    embeddings_df.iloc[:, 1:].values.tolist()  # This grabs all columns from 1 onward\n",
    "))\n",
    "\n",
    "# Function to create sentence embeddings by averaging word embeddings\n",
    "def create_sentence_embedding(tokens):\n",
    "    embeddings = []\n",
    "    for token in tokens:\n",
    "        if token in embeddings_dict:\n",
    "            embeddings.append(embeddings_dict[token])\n",
    "    if embeddings:  # Avoid division by zero\n",
    "        return np.mean(embeddings, axis=0)\n",
    "    else:\n",
    "        return np.zeros(len(next(iter(embeddings_dict.values()))))  # Return a zero vector\n",
    "\n",
    "# Create sentence embeddings for each Urdu text\n",
    "def safe_create_embedding(text):\n",
    "    if isinstance(text, str):  # Check if the text is a string\n",
    "        return create_sentence_embedding(text.split())\n",
    "    else:\n",
    "        return np.zeros(len(next(iter(embeddings_dict.values()))))  # Return a zero vector for non-string entries\n",
    "\n",
    "labels_df['sentence_embedding'] = labels_df['lemmatize_text'].apply(safe_create_embedding)\n",
    "\n",
    "# Convert list of embeddings to a DataFrame\n",
    "embeddings_matrix = np.vstack(labels_df['sentence_embedding'].values)\n",
    "\n",
    "# Prepare labels for classification\n",
    "X = embeddings_matrix\n",
    "y = labels_df['is_sarcastic'].values  # Assuming 'is_sarcastic' is your label column\n",
    "\n",
    "# Encode labels if they are not numerical\n",
    "label_encoder = LabelEncoder()\n",
    "y_encoded = label_encoder.fit_transform(y)\n",
    "\n",
    "# Split the dataset into training and testing sets\n",
    "X_train, X_test, y_train, y_test = train_test_split(X, y_encoded, test_size=0.2, random_state=42)\n",
    "\n",
    "# Choose a model: Logistic Regression, SVM, or Naive Bayes\n",
    "model_choice = 'Logistic Regression'  # Change this to 'SVM' or 'Naive Bayes' as needed\n",
    "\n",
    "if model_choice == 'Logistic Regression':\n",
    "    model = LogisticRegression(max_iter=1000)\n",
    "elif model_choice == 'SVM':\n",
    "    model = SVC()\n",
    "elif model_choice == 'Naive Bayes':\n",
    "    model = MultinomialNB()\n",
    "else:\n",
    "    raise ValueError(\"Invalid model choice. Choose 'Logistic Regression', 'SVM', or 'Naive Bayes'.\")\n",
    "\n",
    "# Train the model\n",
    "model.fit(X_train, y_train)\n",
    "\n",
    "# Make predictions\n",
    "y_pred = model.predict(X_test)\n",
    "\n",
    "# Evaluate the model\n",
    "print(\"Accuracy:\", accuracy_score(y_test, y_pred))\n",
    "print(classification_report(y_test, y_pred, target_names=label_encoder.classes_.astype(str)))"
   ]
  },
  {
   "cell_type": "markdown",
   "id": "b0e79e4e",
   "metadata": {},
   "source": [
    "# Model Testin on Sample Test Sentences"
   ]
  },
  {
   "cell_type": "code",
   "execution_count": 33,
   "id": "31ad4675",
   "metadata": {},
   "outputs": [
    {
     "name": "stdout",
     "output_type": "stream",
     "text": [
      "Sentence: کتنے اچھے ہیں یہ لوگ جو ہر وقت میرا مذاق اڑاتے ہیں۔\n",
      "Prediction: Sarcastic\n",
      "\n",
      "Sentence: آج موسم بہت خوشگوار ہے۔\n",
      "Prediction: Non-Sarcastic\n",
      "\n",
      "Sentence: یہ کھانا بہت مزیدار ہے۔\n",
      "Prediction: Non-Sarcastic\n",
      "\n",
      "Sentence: واقعی بہت مزہ آیا، تم نے مزے کا بیڑا غرق کر دیا۔\n",
      "Prediction: Sarcastic\n",
      "\n",
      "Sentence: کیا زبردست فیصلہ تھا، سب کچھ برباد ہو گیا۔\n",
      "Prediction: Sarcastic\n",
      "\n"
     ]
    }
   ],
   "source": [
    "# Define sample Urdu sentences for prediction\n",
    "sample_sentences = [\n",
    "    \"کتنے اچھے ہیں یہ لوگ جو ہر وقت میرا مذاق اڑاتے ہیں۔\",  # Expected: Sarcastic\n",
    "    \"آج موسم بہت خوشگوار ہے۔\",  # Expected: Non-Sarcastic\n",
    "    \"یہ کھانا بہت مزیدار ہے۔\",  # Expected: Non-Sarcastic\n",
    "    \"واقعی بہت مزہ آیا، تم نے مزے کا بیڑا غرق کر دیا۔\",  # Expected: Sarcastic\n",
    "    \"کیا زبردست فیصلہ تھا، سب کچھ برباد ہو گیا۔\"  # Expected: Sarcastic\n",
    "]\n",
    "\n",
    "# Function to predict sarcasm (0 for non-sarcastic, 1 for sarcastic)\n",
    "def predict_sarcasm(sentences):\n",
    "    predictions = []\n",
    "    for sentence in sentences:\n",
    "        # Create sentence embedding\n",
    "        sentence_embedding = create_sentence_embedding(sentence.split())\n",
    "        \n",
    "        # Reshape to match input format for model\n",
    "        sentence_embedding_reshaped = np.array(sentence_embedding).reshape(1, -1)\n",
    "        \n",
    "        # Make prediction\n",
    "        pred = model.predict(sentence_embedding_reshaped)\n",
    "        \n",
    "        # Append prediction (0 or 1)\n",
    "        predictions.append(pred[0])\n",
    "        \n",
    "    return predictions\n",
    "\n",
    "# Predict sarcasm for the sample sentences\n",
    "predictions = predict_sarcasm(sample_sentences)\n",
    "\n",
    "# Display the results\n",
    "for sentence, prediction in zip(sample_sentences, predictions):\n",
    "    sarcasm_label = \"Sarcastic\" if prediction == 1 else \"Non-Sarcastic\"\n",
    "    print(f\"Sentence: {sentence}\\nPrediction: {sarcasm_label}\\n\")\n"
   ]
  },
  {
   "cell_type": "code",
   "execution_count": null,
   "id": "e01640b1",
   "metadata": {},
   "outputs": [],
   "source": []
  },
  {
   "cell_type": "code",
   "execution_count": null,
   "id": "ff744393",
   "metadata": {},
   "outputs": [],
   "source": []
  },
  {
   "cell_type": "code",
   "execution_count": null,
   "id": "063de011",
   "metadata": {},
   "outputs": [],
   "source": []
  },
  {
   "cell_type": "code",
   "execution_count": null,
   "id": "480d608d",
   "metadata": {},
   "outputs": [],
   "source": []
  },
  {
   "cell_type": "code",
   "execution_count": null,
   "id": "b56f237d",
   "metadata": {},
   "outputs": [],
   "source": []
  },
  {
   "cell_type": "code",
   "execution_count": null,
   "id": "bf701ee3",
   "metadata": {},
   "outputs": [],
   "source": []
  },
  {
   "cell_type": "code",
   "execution_count": null,
   "id": "94f060ee",
   "metadata": {},
   "outputs": [],
   "source": []
  }
 ],
 "metadata": {
  "kernelspec": {
   "display_name": "Python 3 (ipykernel)",
   "language": "python",
   "name": "python3"
  },
  "language_info": {
   "codemirror_mode": {
    "name": "ipython",
    "version": 3
   },
   "file_extension": ".py",
   "mimetype": "text/x-python",
   "name": "python",
   "nbconvert_exporter": "python",
   "pygments_lexer": "ipython3",
   "version": "3.11.7"
  }
 },
 "nbformat": 4,
 "nbformat_minor": 5
}
